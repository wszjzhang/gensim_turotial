{
 "cells": [
  {
   "cell_type": "markdown",
   "metadata": {},
   "source": [
    "The model can also be instantiated from an existing file on disk in the word2vec C format:\n",
    "\n"
   ]
  },
  {
   "cell_type": "code",
   "execution_count": 1,
   "metadata": {
    "collapsed": true
   },
   "outputs": [
    {
     "name": "stderr",
     "output_type": "stream",
     "text": [
      "2017-06-15 13:40:14,639 : INFO : collecting all words and their counts\n",
      "2017-06-15 13:40:14,640 : INFO : PROGRESS: at sentence #0, processed 0 words, keeping 0 word types\n",
      "2017-06-15 13:40:14,640 : INFO : collected 3 word types from a corpus of 4 raw words and 2 sentences\n",
      "2017-06-15 13:40:14,641 : INFO : Loading a fresh vocabulary\n",
      "2017-06-15 13:40:14,641 : INFO : min_count=1 retains 3 unique words (100% of original 3, drops 0)\n",
      "2017-06-15 13:40:14,642 : INFO : min_count=1 leaves 4 word corpus (100% of original 4, drops 0)\n",
      "2017-06-15 13:40:14,642 : INFO : deleting the raw counts dictionary of 3 items\n",
      "2017-06-15 13:40:14,643 : INFO : sample=0.001 downsamples 3 most-common words\n",
      "2017-06-15 13:40:14,644 : INFO : downsampling leaves estimated 0 word corpus (5.7% of prior 4)\n",
      "2017-06-15 13:40:14,644 : INFO : estimated required memory for 3 words and 100 dimensions: 3900 bytes\n",
      "2017-06-15 13:40:14,645 : INFO : resetting layer weights\n",
      "2017-06-15 13:40:14,647 : INFO : training model with 3 workers on 3 vocabulary and 100 features, using sg=0 hs=0 sample=0.001 negative=5 window=5\n",
      "2017-06-15 13:40:14,647 : INFO : expecting 2 sentences, matching count from corpus used for vocabulary survey\n",
      "2017-06-15 13:40:14,650 : INFO : worker thread finished; awaiting finish of 2 more threads\n",
      "2017-06-15 13:40:14,651 : INFO : worker thread finished; awaiting finish of 1 more threads\n",
      "2017-06-15 13:40:14,652 : INFO : worker thread finished; awaiting finish of 0 more threads\n",
      "2017-06-15 13:40:14,652 : INFO : training on 20 raw words (0 effective words) took 0.0s, 0 effective words/s\n",
      "2017-06-15 13:40:14,653 : WARNING : under 10 jobs per worker: consider setting a smaller `batch_words' for smoother alpha decay\n"
     ]
    }
   ],
   "source": [
    "# import modules & set up logging\n",
    "import gensim, logging\n",
    "logging.basicConfig(format='%(asctime)s : %(levelname)s : %(message)s', level=logging.INFO)\n",
    " \n",
    "sentences = [['first', 'sentence'], ['second', 'sentence']]\n",
    "# train word2vec on the two sentences\n",
    "model = gensim.models.Word2Vec(sentences, min_count=1)"
   ]
  },
  {
   "cell_type": "code",
   "execution_count": 3,
   "metadata": {
    "collapsed": true
   },
   "outputs": [],
   "source": [
    "from gensim.models import Word2Vec"
   ]
  },
  {
   "cell_type": "code",
   "execution_count": 4,
   "metadata": {
    "collapsed": false
   },
   "outputs": [
    {
     "name": "stderr",
     "output_type": "stream",
     "text": [
      "2017-06-15 13:40:58,884 : INFO : loading projection weights from ../word2vec/GoogleNews-vectors-negative300.bin\n",
      "2017-06-15 13:42:12,764 : INFO : loaded (3000000, 300) matrix from ../word2vec/GoogleNews-vectors-negative300.bin\n"
     ]
    }
   ],
   "source": [
    "model = Word2Vec.load_word2vec_format(\n",
    "    '../word2vec/GoogleNews-vectors-negative300.bin', binary=True)\n"
   ]
  },
  {
   "cell_type": "code",
   "execution_count": 5,
   "metadata": {
    "collapsed": false
   },
   "outputs": [
    {
     "name": "stderr",
     "output_type": "stream",
     "text": [
      "2017-06-15 13:42:59,837 : INFO : precomputing L2-norms of word weight vectors\n"
     ]
    },
    {
     "data": {
      "text/plain": [
       "[(u'Queen', 0.5515626072883606),\n",
       " (u'Oprah_BFF_Gayle', 0.47597548365592957),\n",
       " (u'Geoffrey_Rush_Exit', 0.46460166573524475),\n",
       " (u'Princess', 0.4533674418926239),\n",
       " (u'Yvonne_Stickney', 0.4507041573524475),\n",
       " (u'L._Bonauto', 0.4422135651111603),\n",
       " (u'gal_pal_Gayle', 0.4408389925956726),\n",
       " (u'Alveda_C.', 0.4402790665626526),\n",
       " (u'Tupou_V.', 0.4373863935470581),\n",
       " (u'K._Letourneau', 0.4351032078266144)]"
      ]
     },
     "execution_count": 5,
     "metadata": {},
     "output_type": "execute_result"
    }
   ],
   "source": [
    "model.most_similar(positive=['woman', 'King'], negative=['man'])"
   ]
  },
  {
   "cell_type": "code",
   "execution_count": 11,
   "metadata": {
    "collapsed": false
   },
   "outputs": [
    {
     "data": {
      "text/plain": [
       "[(u'Germany', 0.4949571192264557),\n",
       " (u'South_Korea', 0.4595564007759094),\n",
       " (u'Korea', 0.44652727246284485),\n",
       " (u'Europe', 0.44142526388168335),\n",
       " (u'Tokyo', 0.4283207356929779),\n",
       " (u'Japanese', 0.42782527208328247),\n",
       " (u'Britain', 0.42449891567230225),\n",
       " (u'Japans', 0.4205564856529236),\n",
       " (u'Asia', 0.4185359477996826),\n",
       " (u'Koichi_Ono', 0.4168367385864258)]"
      ]
     },
     "execution_count": 11,
     "metadata": {},
     "output_type": "execute_result"
    }
   ],
   "source": [
    "model.most_similar(positive=['Mercedes', 'Japan'], negative=['Toyota'])"
   ]
  },
  {
   "cell_type": "code",
   "execution_count": 4,
   "metadata": {
    "collapsed": false
   },
   "outputs": [
    {
     "data": {
      "text/plain": [
       "0.76640122309953529"
      ]
     },
     "execution_count": 4,
     "metadata": {},
     "output_type": "execute_result"
    }
   ],
   "source": [
    "model.similarity('woman', 'man')"
   ]
  },
  {
   "cell_type": "code",
   "execution_count": 9,
   "metadata": {
    "collapsed": false
   },
   "outputs": [
    {
     "data": {
      "text/plain": [
       "0.51572504460350066"
      ]
     },
     "execution_count": 9,
     "metadata": {},
     "output_type": "execute_result"
    }
   ],
   "source": [
    "model.similarity('Queen', 'King')"
   ]
  },
  {
   "cell_type": "code",
   "execution_count": 5,
   "metadata": {
    "collapsed": true
   },
   "outputs": [
    {
     "data": {
      "text/plain": [
       "['__class__',\n",
       " '__contains__',\n",
       " '__delattr__',\n",
       " '__dict__',\n",
       " '__doc__',\n",
       " '__format__',\n",
       " '__getattribute__',\n",
       " '__getitem__',\n",
       " '__hash__',\n",
       " '__init__',\n",
       " '__module__',\n",
       " '__new__',\n",
       " '__reduce__',\n",
       " '__reduce_ex__',\n",
       " '__repr__',\n",
       " '__setattr__',\n",
       " '__sizeof__',\n",
       " '__str__',\n",
       " '__subclasshook__',\n",
       " '__weakref__',\n",
       " '_adapt_by_suffix',\n",
       " '_do_train_job',\n",
       " '_load_specials',\n",
       " '_minimize_model',\n",
       " '_raw_word_count',\n",
       " '_save_specials',\n",
       " '_smart_save',\n",
       " 'accuracy',\n",
       " 'alpha',\n",
       " 'batch_words',\n",
       " 'build_vocab',\n",
       " 'cbow_mean',\n",
       " 'clear_sims',\n",
       " 'create_binary_tree',\n",
       " 'cum_table',\n",
       " 'delete_temporary_training_data',\n",
       " 'disable_keyed_vectors_warnings',\n",
       " 'doesnt_match',\n",
       " 'enable_keyed_vectors_warnings',\n",
       " 'estimate_memory',\n",
       " 'evaluate_word_pairs',\n",
       " 'finalize_vocab',\n",
       " 'hashfxn',\n",
       " 'hs',\n",
       " 'index2word',\n",
       " 'init_sims',\n",
       " 'intersect_word2vec_format',\n",
       " 'iter',\n",
       " 'keyed_vector_warnings',\n",
       " 'layer1_size',\n",
       " 'load',\n",
       " 'load_word2vec_format',\n",
       " 'log_accuracy',\n",
       " 'log_evaluate_word_pairs',\n",
       " 'make_cum_table',\n",
       " 'max_vocab_size',\n",
       " 'min_alpha',\n",
       " 'min_alpha_yet_reached',\n",
       " 'min_count',\n",
       " 'model_trimmed_post_training',\n",
       " 'most_similar',\n",
       " 'most_similar_cosmul',\n",
       " 'n_similarity',\n",
       " 'negative',\n",
       " 'null_word',\n",
       " 'random',\n",
       " 'reset_from',\n",
       " 'reset_weights',\n",
       " 'sample',\n",
       " 'save',\n",
       " 'save_word2vec_format',\n",
       " 'scale_vocab',\n",
       " 'scan_vocab',\n",
       " 'score',\n",
       " 'seed',\n",
       " 'seeded_vector',\n",
       " 'sg',\n",
       " 'similar_by_vector',\n",
       " 'similar_by_word',\n",
       " 'similarity',\n",
       " 'sort_vocab',\n",
       " 'sorted_vocab',\n",
       " 'syn0',\n",
       " 'syn0norm',\n",
       " 'total_train_time',\n",
       " 'train',\n",
       " 'train_count',\n",
       " 'update_weights',\n",
       " 'vector_size',\n",
       " 'vocab',\n",
       " 'window',\n",
       " 'wmdistance',\n",
       " 'workers',\n",
       " 'wv']"
      ]
     },
     "execution_count": 5,
     "metadata": {},
     "output_type": "execute_result"
    }
   ],
   "source": [
    "dir(model)"
   ]
  },
  {
   "cell_type": "code",
   "execution_count": 7,
   "metadata": {
    "collapsed": false
   },
   "outputs": [
    {
     "data": {
      "text/plain": [
       "300"
      ]
     },
     "execution_count": 7,
     "metadata": {},
     "output_type": "execute_result"
    }
   ],
   "source": [
    "len(model['computer'])"
   ]
  },
  {
   "cell_type": "code",
   "execution_count": null,
   "metadata": {
    "collapsed": true
   },
   "outputs": [],
   "source": []
  }
 ],
 "metadata": {
  "anaconda-cloud": {},
  "kernelspec": {
   "display_name": "Python [conda env:py27]",
   "language": "python",
   "name": "conda-env-py27-py"
  },
  "language_info": {
   "codemirror_mode": {
    "name": "ipython",
    "version": 2
   },
   "file_extension": ".py",
   "mimetype": "text/x-python",
   "name": "python",
   "nbconvert_exporter": "python",
   "pygments_lexer": "ipython2",
   "version": "2.7.12"
  }
 },
 "nbformat": 4,
 "nbformat_minor": 1
}
